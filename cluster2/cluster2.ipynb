{
 "cells": [
  {
   "cell_type": "code",
   "execution_count": null,
   "metadata": {},
   "outputs": [],
   "source": [
    "import requests\n",
    "\n",
    "def query(data):\n",
    "    return requests.post(\n",
    "        \"http://cluster2.advml.com/score\",\n",
    "        json={ \"data\": data }\n",
    "    ).json()\n",
    "\n",
    "for i in range(1, 10):\n",
    "    res = query(i)\n",
    "    if \"flag\" in res:\n",
    "        print(i, res[\"flag\"])\n",
    "        break"
   ]
  }
 ],
 "metadata": {
  "kernelspec": {
   "display_name": "venv",
   "language": "python",
   "name": "python3"
  },
  "language_info": {
   "name": "python",
   "version": "3.10.7"
  }
 },
 "nbformat": 4,
 "nbformat_minor": 2
}
