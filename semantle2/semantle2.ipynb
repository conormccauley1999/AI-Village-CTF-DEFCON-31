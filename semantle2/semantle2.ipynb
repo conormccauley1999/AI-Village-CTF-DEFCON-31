{
 "cells": [
  {
   "cell_type": "code",
   "execution_count": 1,
   "metadata": {},
   "outputs": [],
   "source": [
    "import requests\n",
    "\n",
    "def query(data):\n",
    "    return requests.post(\"http://semantle2.advml.com/score\", json={\"data\": data}).json()\n",
    "\n",
    "with open(\"words.txt\", \"r\") as f:\n",
    "    words = [line.strip() for line in f.readlines()]\n",
    "\n",
    "scores = []\n",
    "for word in words:\n",
    "    scores.append([query(word)[\"message\"], word])\n",
    "scores.sort(reverse=True)\n",
    "print(scores[:20])"
   ]
  },
  {
   "cell_type": "code",
   "execution_count": null,
   "metadata": {},
   "outputs": [],
   "source": [
    "from itertools import permutations\n",
    "\n",
    "candidates = [\"television\", \"camera\", \"woman\", \"person\", \"man\"]\n",
    "for perm in permutations(candidates):\n",
    "    phrase = \" \".join(perm)\n",
    "    res = query(perm)\n",
    "    if \"flag\" in res:\n",
    "        print(phrase, res[\"flag\"])\n",
    "        break"
   ]
  }
 ],
 "metadata": {
  "kernelspec": {
   "display_name": "venv",
   "language": "python",
   "name": "python3"
  },
  "language_info": {
   "codemirror_mode": {
    "name": "ipython",
    "version": 3
   },
   "file_extension": ".py",
   "mimetype": "text/x-python",
   "name": "python",
   "nbconvert_exporter": "python",
   "pygments_lexer": "ipython3",
   "version": "3.10.7"
  }
 },
 "nbformat": 4,
 "nbformat_minor": 2
}
