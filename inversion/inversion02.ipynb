{
 "cells": [
  {
   "cell_type": "code",
   "execution_count": 6,
   "metadata": {},
   "outputs": [
    {
     "name": "stdout",
     "output_type": "stream",
     "text": [
      "[('8', 0.71), ('p', 0.67), ('T', 0.65), ('P', 0.64), ('Y', 0.56), ('X', 0.52), ('5', 0.51), ('J', 0.51), ('r', 0.51), ('x', 0.48)]\n",
      "[('c', 0.98), ('e', 0.97)]\n",
      "[('f', 0.69), ('b', 0.68), ('6', 0.64), ('i', 0.62), ('h', 0.61), ('l', 0.58), ('I', 0.53), ('4', 0.52), ('t', 0.52), ('1', 0.5), ('F', 0.44)]\n",
      "[('m', 1.0), ('M', 0.99)]\n",
      "[('d', 0.69), ('U', 0.68), ('u', 0.63), ('j', 0.62), ('W', 0.59), ('Q', 0.55), ('V', 0.55), ('v', 0.51), ('2', 0.46), ('0', 0.45), ('w', 0.45)]\n"
     ]
    }
   ],
   "source": [
    "import numpy as np\n",
    "import pickle\n",
    "import string\n",
    "from collections import defaultdict as dd\n",
    "\n",
    "with open(\"inversion.pkl\", \"rb\") as f:\n",
    "    probs = pickle.load(f)\n",
    "\n",
    "C = string.digits + string.ascii_uppercase + string.ascii_lowercase\n",
    "def c2c(c):\n",
    "    return C[c]\n",
    "\n",
    "s = set()\n",
    "for cl, _ in probs:\n",
    "    s.add(cl)\n",
    "\n",
    "cprobs = dd(list)\n",
    "for cl, vals in probs:\n",
    "    ch = c2c(cl)\n",
    "    cprobs[ch].append(vals)\n",
    "\n",
    "all_avgs = []\n",
    "for ch in C:\n",
    "    array = np.array(cprobs[ch])\n",
    "    if len(array.shape) == 1: continue\n",
    "    avgs = [0.0] * 8\n",
    "    for i in range(8):\n",
    "        vals = array[:,i]\n",
    "        q1, q3 = np.percentile(vals, [25, 75])\n",
    "        iqr = q3 - q1\n",
    "        lo = q1 - (1.5 * iqr)\n",
    "        hi = q3 + (1.5 * iqr)\n",
    "        vals = vals[(vals >= lo) & (vals <= hi)]\n",
    "        avgs[i] = round(float(vals.mean()), 2)\n",
    "    all_avgs.append(avgs)\n",
    "all_avgs = np.array(all_avgs)\n",
    "\n",
    "for i in [0, 1, 2, 3, 6]:\n",
    "    vals = sorted(list(enumerate(all_avgs[:,i])), reverse=True, key=lambda x: x[1])\n",
    "    mx = vals[0][1]\n",
    "    out = []\n",
    "    for c, v in vals:\n",
    "        if v < mx - 0.25: break\n",
    "        out.append((c2c(c), v))\n",
    "    print(out)"
   ]
  }
 ],
 "metadata": {
  "kernelspec": {
   "display_name": "venv",
   "language": "python",
   "name": "python3"
  },
  "language_info": {
   "codemirror_mode": {
    "name": "ipython",
    "version": 3
   },
   "file_extension": ".py",
   "mimetype": "text/x-python",
   "name": "python",
   "nbconvert_exporter": "python",
   "pygments_lexer": "ipython3",
   "version": "3.10.7"
  }
 },
 "nbformat": 4,
 "nbformat_minor": 2
}
