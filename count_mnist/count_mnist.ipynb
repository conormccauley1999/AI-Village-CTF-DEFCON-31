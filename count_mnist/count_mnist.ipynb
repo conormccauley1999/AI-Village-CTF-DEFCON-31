{
 "cells": [
  {
   "cell_type": "code",
   "execution_count": 4,
   "metadata": {},
   "outputs": [],
   "source": [
    "import numpy as np\n",
    "import pickle\n",
    "from keras.datasets import mnist\n",
    "\n",
    "(tx, _), (vx, _) = mnist.load_data()\n",
    "data = np.column_stack((\n",
    "    np.arange(256),\n",
    "    np.histogram(np.concatenate((tx, vx), axis=0).reshape(-1), bins=256)[0]\n",
    ")).tolist()\n",
    "\n",
    "with open(\"count_mnist.pkl\", \"wb+\") as f:\n",
    "    pickle.dump(data, f)"
   ]
  }
 ],
 "metadata": {
  "kernelspec": {
   "display_name": "venv",
   "language": "python",
   "name": "python3"
  },
  "language_info": {
   "codemirror_mode": {
    "name": "ipython",
    "version": 3
   },
   "file_extension": ".py",
   "mimetype": "text/x-python",
   "name": "python",
   "nbconvert_exporter": "python",
   "pygments_lexer": "ipython3",
   "version": "3.10.7"
  }
 },
 "nbformat": 4,
 "nbformat_minor": 2
}
